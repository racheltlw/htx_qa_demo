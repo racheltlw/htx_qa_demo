{
 "cells": [
  {
   "cell_type": "markdown",
   "id": "8af769e1",
   "metadata": {},
   "source": [
    "## Demo for Question and Answering System (Single) "
   ]
  },
  {
   "cell_type": "markdown",
   "id": "43ef1b72",
   "metadata": {},
   "source": [
    "This demo will walk you through how to pull and use a simple Question and Answering transformer model from the Hugging Face repository "
   ]
  },
  {
   "cell_type": "markdown",
   "id": "1ac64c46",
   "metadata": {},
   "source": [
    "#### 1. Setup"
   ]
  },
  {
   "cell_type": "markdown",
   "id": "50d2700e",
   "metadata": {},
   "source": [
    "import libraries"
   ]
  },
  {
   "cell_type": "code",
   "execution_count": 1,
   "id": "fe1eb643",
   "metadata": {},
   "outputs": [
    {
     "name": "stderr",
     "output_type": "stream",
     "text": [
      "C:\\Users\\Rachel Tan\\Documents\\France Trip\\paris_demo\\lib\\site-packages\\tqdm\\auto.py:22: TqdmWarning: IProgress not found. Please update jupyter and ipywidgets. See https://ipywidgets.readthedocs.io/en/stable/user_install.html\n",
      "  from .autonotebook import tqdm as notebook_tqdm\n"
     ]
    }
   ],
   "source": [
    "from transformers import AutoTokenizer, AutoModelForQuestionAnswering, pipeline\n",
    "import numpy as np"
   ]
  },
  {
   "cell_type": "markdown",
   "id": "176a0500",
   "metadata": {},
   "source": [
    "#### 2. Load the Model and Tokenizer from Hugging Face"
   ]
  },
  {
   "cell_type": "code",
   "execution_count": 2,
   "id": "c3af7cb3",
   "metadata": {},
   "outputs": [],
   "source": [
    "transformer_name = 'deepset/roberta-base-squad2'"
   ]
  },
  {
   "cell_type": "markdown",
   "id": "78cd5124",
   "metadata": {},
   "source": [
    "If need be you can download the models for use locally (without internet)"
   ]
  },
  {
   "cell_type": "code",
   "execution_count": null,
   "id": "748cff39",
   "metadata": {},
   "outputs": [],
   "source": [
    "#tokenizer = AutoTokenizer.from_pretrained(transformer_name)\n",
    "#model = AutoModelForQuestionAnswering.from_pretrained(transformer_name)"
   ]
  },
  {
   "cell_type": "code",
   "execution_count": 4,
   "id": "3a94d750",
   "metadata": {},
   "outputs": [],
   "source": [
    "#model.save_pretrained('local_models/local-roberta-base-squad2/model')\n",
    "#tokenizer.save_pretrained('local_models/local-roberta-base-squad2/tokenizer')"
   ]
  },
  {
   "cell_type": "markdown",
   "id": "15bb7364",
   "metadata": {},
   "source": [
    "#### 3. Read in data"
   ]
  },
  {
   "cell_type": "code",
   "execution_count": 5,
   "id": "a8d3c228",
   "metadata": {},
   "outputs": [],
   "source": [
    "with open('single_doc.txt', encoding=\"utf8\") as f:\n",
    "    data = f.read().replace('\\n', ' ')"
   ]
  },
  {
   "cell_type": "code",
   "execution_count": 6,
   "id": "0324e0db",
   "metadata": {},
   "outputs": [
    {
     "name": "stdout",
     "output_type": "stream",
     "text": [
      "The driver of a tourist bus was left with serious head injuries after being beaten unconscious with a metal water bottle on a Hong Kong street on Thursday.  Police arrested the 56-year-old driver of a minibus on suspicion of assault in connection with the attack, which took place in Yue Man Square, Kwun Tong, soon after 7am.  His 42-year-old victim was taken to Queen Elizabeth Hospital in Yau Ma Tei, and was in serious condition in the intensive care unit, police said.  According to police, the driver of the tourist bus was standing in the road tidying up the vehicle’s luggage compartment when the minibus drove by and almost hit him.  During the resulting argument, a police source said the minibus driver was believed to have hit the victim several times in the head “using a metal water bottle”.  The minibus driver, who was arrested for assault, complained of feeling unwell after the incident and was taken to United Christian Hospital in Kwun Tong.  Earlier on Thursday, a motorist escaped serious injury when his car slammed into a roadside railing and overturned in the Sha Tin Heights section of Tai Po Road, near Tai Wai, just before 2am.  Police said the man, 29, suffered neck and hand injuries and was sent to Prince of Wales Hospital in Sha Tin.\n"
     ]
    }
   ],
   "source": [
    "print(data)"
   ]
  },
  {
   "cell_type": "markdown",
   "id": "7cc05f50",
   "metadata": {},
   "source": [
    "#### 4. Create a pipeline and ask a question!"
   ]
  },
  {
   "cell_type": "markdown",
   "id": "7b270b0d",
   "metadata": {},
   "source": [
    "Note: If you need to install pytorch again: pip3 install torch torchvision torchaudio --extra-index-url https://download.pytorch.org/whl/cu113"
   ]
  },
  {
   "cell_type": "code",
   "execution_count": null,
   "id": "8f7bd8e3",
   "metadata": {},
   "outputs": [],
   "source": [
    "qa_pipeline = pipeline('question-answering', model=transformer_name, tokenizer=transformer_name)"
   ]
  },
  {
   "cell_type": "code",
   "execution_count": 9,
   "id": "01a9aada",
   "metadata": {},
   "outputs": [
    {
     "data": {
      "text/plain": [
       "{'score': 0.4121091961860657,\n",
       " 'start': 102,\n",
       " 'end': 120,\n",
       " 'answer': 'metal water bottle'}"
      ]
     },
     "execution_count": 9,
     "metadata": {},
     "output_type": "execute_result"
    }
   ],
   "source": [
    "QA_input = {\n",
    "    'question': 'What is the weapon?',\n",
    "    'context': data\n",
    "}\n",
    "result = qa_pipeline(QA_input)\n",
    "result"
   ]
  },
  {
   "cell_type": "code",
   "execution_count": 10,
   "id": "a80395a7",
   "metadata": {},
   "outputs": [
    {
     "data": {
      "text/plain": [
       "{'score': 0.35013505816459656,\n",
       " 'start': 0,\n",
       " 'end': 27,\n",
       " 'answer': 'The driver of a tourist bus'}"
      ]
     },
     "execution_count": 10,
     "metadata": {},
     "output_type": "execute_result"
    }
   ],
   "source": [
    "QA_input = {\n",
    "    'question': 'Who was hurt?',\n",
    "    'context': data\n",
    "}\n",
    "result = qa_pipeline(QA_input)\n",
    "result"
   ]
  },
  {
   "cell_type": "code",
   "execution_count": null,
   "id": "2a2ac8c9",
   "metadata": {},
   "outputs": [],
   "source": []
  }
 ],
 "metadata": {
  "kernelspec": {
   "display_name": "paris_demo",
   "language": "python",
   "name": "paris_demo"
  },
  "language_info": {
   "codemirror_mode": {
    "name": "ipython",
    "version": 3
   },
   "file_extension": ".py",
   "mimetype": "text/x-python",
   "name": "python",
   "nbconvert_exporter": "python",
   "pygments_lexer": "ipython3",
   "version": "3.9.5"
  }
 },
 "nbformat": 4,
 "nbformat_minor": 5
}
